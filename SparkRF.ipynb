{
 "cells": [
  {
   "cell_type": "markdown",
   "metadata": {},
   "source": [
    "初始化spark环境\n",
    "* 模块重载 https://github.com/jupyter/notebook/issues/1973"
   ]
  },
  {
   "cell_type": "code",
   "execution_count": 2,
   "metadata": {},
   "outputs": [],
   "source": [
    "import findspark\n",
    "findspark.init()\n",
    "\n",
    "from pyspark.ml import Pipeline\n",
    "from pyspark.sql import SparkSession # SparkSession 是Spark 2.0版本的新入口\n",
    "spark = SparkSession.builder.master('local').getOrCreate()\n",
    "\n",
    "# 加载 utils.py 中的自定义方法\n",
    "from utils import *\n",
    "\n",
    "# 使能调用其他 ipynb 文件\n",
    "# import ipynb_importer "
   ]
  },
  {
   "cell_type": "markdown",
   "metadata": {},
   "source": [
    "# 特征工程"
   ]
  },
  {
   "cell_type": "markdown",
   "metadata": {},
   "source": [
    "* DataFrame操作 https://blog.csdn.net/sinat_26917383/article/details/80500349 \n",
    "* DataFrame基础 https://zhuanlan.zhihu.com/p/34901683\n",
    "* 处理稀疏特征 http://www.4o4notfound.org/index.php/archives/123/\n",
    "* 用户自定义函数 https://stackoverflow.com/questions/29109916/updating-a-dataframe-column-in-spark"
   ]
  },
  {
   "cell_type": "markdown",
   "metadata": {},
   "source": [
    "设置schema"
   ]
  },
  {
   "cell_type": "code",
   "execution_count": 3,
   "metadata": {},
   "outputs": [],
   "source": [
    "from pyspark.sql.types import StructType, StructField, IntegerType, StringType, FloatType"
   ]
  },
  {
   "cell_type": "code",
   "execution_count": 4,
   "metadata": {},
   "outputs": [],
   "source": [
    "schema = StructType([\n",
    "StructField(\"duration\",IntegerType(),False),\n",
    "StructField(\"protocol_type\",StringType(),False),\n",
    "StructField(\"service\",StringType(),False),\n",
    "StructField(\"flag\",StringType(),False),\n",
    "StructField(\"src_bytes\",IntegerType(),False),\n",
    "StructField(\"dst_bytes\",IntegerType(),False),\n",
    "StructField(\"land\",IntegerType(),False),\n",
    "StructField(\"wrong_fragment\",IntegerType(),False),\n",
    "StructField(\"urgent\",IntegerType(),False),\n",
    "StructField(\"hot\",IntegerType(),False),\n",
    "StructField(\"num_failed_logins\",IntegerType(),False),\n",
    "StructField(\"logged_in\",IntegerType(),False),\n",
    "StructField(\"num_compromised\",IntegerType(),False),\n",
    "StructField(\"root_shell\",IntegerType(),False),\n",
    "StructField(\"su_attempted\",IntegerType(),False),\n",
    "StructField(\"num_root\",IntegerType(),False),\n",
    "StructField(\"num_file_creations\",IntegerType(),False),\n",
    "StructField(\"num_shells\",IntegerType(),False),\n",
    "StructField(\"num_access_files\",IntegerType(),False),\n",
    "StructField(\"num_outbound_cmds\",IntegerType(),False),\n",
    "StructField(\"is_host_login\",IntegerType(),False),\n",
    "StructField(\"is_guest_login\",IntegerType(),False),\n",
    "StructField(\"count\",IntegerType(),False),\n",
    "StructField(\"srv_count\",IntegerType(),False),\n",
    "StructField(\"serror_rate\",FloatType(),False),\n",
    "StructField(\"srv_serror_rate\",FloatType(),False),\n",
    "StructField(\"rerror_rate\",FloatType(),False),\n",
    "StructField(\"srv_rerror_rate\",FloatType(),False),\n",
    "StructField(\"same_srv_rate\",FloatType(),False),\n",
    "StructField(\"diff_srv_rate\",FloatType(),False),\n",
    "StructField(\"srv_diff_host_rate\",FloatType(),False),\n",
    "StructField(\"dst_host_count\",IntegerType(),False),\n",
    "StructField(\"dst_host_srv_count\",IntegerType(),False),\n",
    "StructField(\"dst_host_same_srv_rate\",FloatType(),False),\n",
    "StructField(\"dst_host_diff_srv_rate\",FloatType(),False),\n",
    "StructField(\"dst_host_same_src_port_rate\",FloatType(),False),\n",
    "StructField(\"dst_host_srv_diff_host_rate\",FloatType(),False),\n",
    "StructField(\"dst_host_serror_rate\",FloatType(),False),\n",
    "StructField(\"dst_host_srv_serror_rate\",FloatType(),False),\n",
    "StructField(\"dst_host_rerror_rate\",FloatType(),False),\n",
    "StructField(\"dst_host_srv_rerror_rate\",FloatType(),False),\n",
    "StructField(\"label\",StringType(),False)\n",
    "])"
   ]
  },
  {
   "cell_type": "markdown",
   "metadata": {},
   "source": [
    "从本地读取数据"
   ]
  },
  {
   "cell_type": "code",
   "execution_count": 5,
   "metadata": {
    "collapsed": true
   },
   "outputs": [
    {
     "name": "stdout",
     "output_type": "stream",
     "text": [
      "root\n",
      " |-- duration: integer (nullable = true)\n",
      " |-- protocol_type: string (nullable = true)\n",
      " |-- service: string (nullable = true)\n",
      " |-- flag: string (nullable = true)\n",
      " |-- src_bytes: integer (nullable = true)\n",
      " |-- dst_bytes: integer (nullable = true)\n",
      " |-- land: integer (nullable = true)\n",
      " |-- wrong_fragment: integer (nullable = true)\n",
      " |-- urgent: integer (nullable = true)\n",
      " |-- hot: integer (nullable = true)\n",
      " |-- num_failed_logins: integer (nullable = true)\n",
      " |-- logged_in: integer (nullable = true)\n",
      " |-- num_compromised: integer (nullable = true)\n",
      " |-- root_shell: integer (nullable = true)\n",
      " |-- su_attempted: integer (nullable = true)\n",
      " |-- num_root: integer (nullable = true)\n",
      " |-- num_file_creations: integer (nullable = true)\n",
      " |-- num_shells: integer (nullable = true)\n",
      " |-- num_access_files: integer (nullable = true)\n",
      " |-- num_outbound_cmds: integer (nullable = true)\n",
      " |-- is_host_login: integer (nullable = true)\n",
      " |-- is_guest_login: integer (nullable = true)\n",
      " |-- count: integer (nullable = true)\n",
      " |-- srv_count: integer (nullable = true)\n",
      " |-- serror_rate: float (nullable = true)\n",
      " |-- srv_serror_rate: float (nullable = true)\n",
      " |-- rerror_rate: float (nullable = true)\n",
      " |-- srv_rerror_rate: float (nullable = true)\n",
      " |-- same_srv_rate: float (nullable = true)\n",
      " |-- diff_srv_rate: float (nullable = true)\n",
      " |-- srv_diff_host_rate: float (nullable = true)\n",
      " |-- dst_host_count: integer (nullable = true)\n",
      " |-- dst_host_srv_count: integer (nullable = true)\n",
      " |-- dst_host_same_srv_rate: float (nullable = true)\n",
      " |-- dst_host_diff_srv_rate: float (nullable = true)\n",
      " |-- dst_host_same_src_port_rate: float (nullable = true)\n",
      " |-- dst_host_srv_diff_host_rate: float (nullable = true)\n",
      " |-- dst_host_serror_rate: float (nullable = true)\n",
      " |-- dst_host_srv_serror_rate: float (nullable = true)\n",
      " |-- dst_host_rerror_rate: float (nullable = true)\n",
      " |-- dst_host_srv_rerror_rate: float (nullable = true)\n",
      " |-- label: string (nullable = true)\n",
      "\n"
     ]
    }
   ],
   "source": [
    "# 从csv中读取\n",
    "dataset = spark.read.csv('Data/kddcup.data_10_percent.gz', header=None,schema=schema)\n",
    "dataset.printSchema()"
   ]
  },
  {
   "cell_type": "markdown",
   "metadata": {},
   "source": [
    "合并稀疏特征"
   ]
  },
  {
   "cell_type": "code",
   "execution_count": 6,
   "metadata": {},
   "outputs": [],
   "source": [
    "from utils import mapper_mergeSparseFeatureInService\n",
    "import pyspark.sql.functions as F\n",
    "\n",
    "# 用户自定义函数\n",
    "udf_mergeSparseFeatureInService = F.UserDefinedFunction(mapper_mergeSparseFeatureInService,StringType())"
   ]
  },
  {
   "cell_type": "code",
   "execution_count": 12,
   "metadata": {},
   "outputs": [
    {
     "name": "stdout",
     "output_type": "stream",
     "text": [
      "+-------+\n",
      "|service|\n",
      "+-------+\n",
      "|   http|\n",
      "|   http|\n",
      "+-------+\n",
      "only showing top 2 rows\n",
      "\n"
     ]
    }
   ],
   "source": [
    "dataset = dataset.select(\n",
    "    *[udf_mergeSparseFeatureInService(column).alias('service') if column == 'service' else column for column in dataset.columns]\n",
    ")\n",
    "dataset.select('service').show(2)"
   ]
  },
  {
   "cell_type": "markdown",
   "metadata": {},
   "source": [
    "划分攻击类型"
   ]
  },
  {
   "cell_type": "code",
   "execution_count": 8,
   "metadata": {},
   "outputs": [],
   "source": [
    "from utils import mapper_attack2majorindex\n",
    "\n",
    "udf_mapper_attack2majorindex = F.UserDefinedFunction(mapper_attack2majorindex,IntegerType())"
   ]
  },
  {
   "cell_type": "code",
   "execution_count": 11,
   "metadata": {},
   "outputs": [
    {
     "name": "stdout",
     "output_type": "stream",
     "text": [
      "+-----+\n",
      "|label|\n",
      "+-----+\n",
      "|    0|\n",
      "|    0|\n",
      "+-----+\n",
      "only showing top 2 rows\n",
      "\n"
     ]
    }
   ],
   "source": [
    "dataset = dataset.select(\n",
    "    *[udf_mapper_attack2majorindex(column).alias('label') if column == 'label' else column for column in dataset.columns]\n",
    ")\n",
    "dataset.select('label').show(2)"
   ]
  },
  {
   "cell_type": "markdown",
   "metadata": {},
   "source": [
    "分类编码 Pipeline "
   ]
  },
  {
   "cell_type": "code",
   "execution_count": 27,
   "metadata": {},
   "outputs": [],
   "source": [
    "from pyspark.ml.feature import StringIndexer\n",
    "\n",
    "fearture_string = ['protocol_type', 'service', 'flag']\n",
    "pipeline_stringindex = Pipeline(stages=[\n",
    "    StringIndexer(inputCol=c, outputCol='{}_index'.format(c),handleInvalid='keep')\n",
    "    for c in fearture_string\n",
    "])\n",
    "\n",
    "pipeline_stringindex_fitted = pipeline_stringindex.fit(dataset=dataset)"
   ]
  },
  {
   "cell_type": "code",
   "execution_count": 13,
   "metadata": {},
   "outputs": [],
   "source": [
    "dataset_indexed = pipeline_stringindex_fitted.transform(dataset=dataset)"
   ]
  },
  {
   "cell_type": "code",
   "execution_count": 14,
   "metadata": {},
   "outputs": [
    {
     "name": "stdout",
     "output_type": "stream",
     "text": [
      "+-------------+-------------------+-------+-------------+----+----------+-----+\n",
      "|protocol_type|protocol_type_index|service|service_index|flag|flag_index|label|\n",
      "+-------------+-------------------+-------+-------------+----+----------+-----+\n",
      "|          tcp|                1.0|   http|          2.0|  SF|       0.0|    0|\n",
      "|          tcp|                1.0|   http|          2.0|  SF|       0.0|    0|\n",
      "|          tcp|                1.0|   http|          2.0|  SF|       0.0|    0|\n",
      "|          tcp|                1.0|   http|          2.0|  SF|       0.0|    0|\n",
      "|          tcp|                1.0|   http|          2.0|  SF|       0.0|    0|\n",
      "+-------------+-------------------+-------+-------------+----+----------+-----+\n",
      "only showing top 5 rows\n",
      "\n"
     ]
    }
   ],
   "source": [
    "dataset_indexed.select('protocol_type','protocol_type_index','service','service_index','flag','flag_index','label').show(5)"
   ]
  },
  {
   "cell_type": "code",
   "execution_count": 63,
   "metadata": {},
   "outputs": [],
   "source": [
    "# 存储 pipeline\n",
    "pipeline_stringindex_fitted.save('SparkRF/pipeline_stringindex_fitted')"
   ]
  },
  {
   "cell_type": "code",
   "execution_count": 9,
   "metadata": {},
   "outputs": [],
   "source": [
    "# 加载 pipeline\n",
    "from pyspark.ml import PipelineModel\n",
    "pipeline_stringindex_fitted = PipelineModel.load('SparkRF/pipeline_stringindex_fitted')"
   ]
  },
  {
   "cell_type": "markdown",
   "metadata": {},
   "source": [
    "# 随机森林"
   ]
  },
  {
   "cell_type": "markdown",
   "metadata": {},
   "source": [
    "* maxBin取值 https://stackoverflow.com/questions/38767786/spark-mllib-2-0-categorical-features-in-pipeline"
   ]
  },
  {
   "cell_type": "code",
   "execution_count": 15,
   "metadata": {},
   "outputs": [],
   "source": [
    "from pyspark.ml.classification import RandomForestClassifier\n",
    "from pyspark.ml.feature import VectorAssembler\n",
    "from time import time"
   ]
  },
  {
   "cell_type": "markdown",
   "metadata": {},
   "source": [
    "构造训练集 [features][label]"
   ]
  },
  {
   "cell_type": "code",
   "execution_count": 16,
   "metadata": {},
   "outputs": [],
   "source": [
    "def featuresToVec(dataset_indexed):\n",
    "    # 构造特征向量\n",
    "    features=[dataset_indexed.columns[0]]+dataset_indexed.columns[4:]\n",
    "    features.remove('label')\n",
    "    feature_vec = VectorAssembler(inputCols=features,outputCol='feature_vec').transform(dataset_indexed)\n",
    "    # 组合数据集： 特征向量，标签\n",
    "    return feature_vec.select('feature_vec','label')"
   ]
  },
  {
   "cell_type": "code",
   "execution_count": 17,
   "metadata": {},
   "outputs": [],
   "source": [
    "dataset_indexed = featuresToVec(dataset_indexed)"
   ]
  },
  {
   "cell_type": "code",
   "execution_count": 18,
   "metadata": {},
   "outputs": [],
   "source": [
    "# 划分训练集，测试集\n",
    "train_set,test_set = dataset_indexed.randomSplit([0.8,0.2])"
   ]
  },
  {
   "cell_type": "code",
   "execution_count": 9,
   "metadata": {},
   "outputs": [],
   "source": [
    "rf = RandomForestClassifier(\n",
    "    featuresCol='feature_vec', # 特征\n",
    "    labelCol='label', #标签\n",
    "    impurity='gini', # 考虑到样本分布和计算效率\n",
    "    maxDepth=8, # 最大深度\n",
    "    maxBins=72, # 根据样本训练集确定\n",
    "    numTrees=200, # 树个数\n",
    "    subsamplingRate = 1.0, # 默认值，用于训练每棵树的数据占总训练集比例，可用于加速\n",
    "    seed=5, \n",
    ")"
   ]
  },
  {
   "cell_type": "code",
   "execution_count": 36,
   "metadata": {},
   "outputs": [
    {
     "name": "stdout",
     "output_type": "stream",
     "text": [
      "Trains in 451.235 seconds\n"
     ]
    }
   ],
   "source": [
    "# 训练模型\n",
    "t0 = time()\n",
    "rf_model = rf.fit(train_set)\n",
    "tt = time() -t0\n",
    "print(\"Trains in {} seconds\".format(round(tt,3)))"
   ]
  },
  {
   "cell_type": "code",
   "execution_count": 50,
   "metadata": {},
   "outputs": [],
   "source": [
    "# 保存训练好的机器学习模型\n",
    "rf_model.save('SparkRF/rf_SparkRF')"
   ]
  },
  {
   "cell_type": "code",
   "execution_count": 19,
   "metadata": {},
   "outputs": [],
   "source": [
    "# 加载本地机器学习模型\n",
    "from pyspark.ml.classification import RandomForestClassificationModel\n",
    "rf_model=RandomForestClassificationModel.load('SparkRF/rf_SparkRF')"
   ]
  },
  {
   "cell_type": "code",
   "execution_count": 20,
   "metadata": {},
   "outputs": [
    {
     "name": "stdout",
     "output_type": "stream",
     "text": [
      "Perdict in 0.129 seconds\n"
     ]
    }
   ],
   "source": [
    "# 预测\n",
    "t0 = time()\n",
    "test_result = rf_model.transform(test_set)\n",
    "tt = time() -t0\n",
    "print(\"Perdict in {} seconds\".format(round(tt,3)))"
   ]
  },
  {
   "cell_type": "markdown",
   "metadata": {},
   "source": [
    "# 评价"
   ]
  },
  {
   "cell_type": "markdown",
   "metadata": {},
   "source": [
    "#### 交叉验证打分"
   ]
  },
  {
   "cell_type": "code",
   "execution_count": 57,
   "metadata": {},
   "outputs": [],
   "source": [
    "from pyspark.ml.evaluation import MulticlassClassificationEvaluator"
   ]
  },
  {
   "cell_type": "code",
   "execution_count": 74,
   "metadata": {},
   "outputs": [
    {
     "name": "stdout",
     "output_type": "stream",
     "text": [
      "accuracy                       0.999515 \t 69.876000\n",
      "f1                             0.999506 \t 99.630000\n"
     ]
    }
   ],
   "source": [
    "evaluator = MulticlassClassificationEvaluator(labelCol='label',predictionCol='prediction')\n",
    "score={}\n",
    "# for metric in ['accuracy','f1','weightedPrecision','weightedRecall']:\n",
    "for metric in ['accuracy','f1']:\n",
    "    t0 = time()\n",
    "    score[metric] = evaluator.evaluate(dataset=test_result,params={evaluator.metricName:metric})\n",
    "    tt = time() -t0\n",
    "    print(\"%-*s %f \\t %f seconds\"%( 30 , metric, score[metric], round(tt,3)))\n",
    "    "
   ]
  },
  {
   "cell_type": "markdown",
   "metadata": {},
   "source": [
    "### 验证集打分"
   ]
  },
  {
   "cell_type": "markdown",
   "metadata": {},
   "source": [
    "数据导入与处理"
   ]
  },
  {
   "cell_type": "code",
   "execution_count": 21,
   "metadata": {},
   "outputs": [],
   "source": [
    "corrected = spark.read.csv('Data/corrected.gz', header=None,schema=schema)\n",
    "\n",
    "# 合并稀疏特征\n",
    "corrected = corrected.select(\n",
    "    *[udf_mergeSparseFeatureInService(column).alias('service') if column == 'service' else column for column in corrected.columns]\n",
    ")\n",
    "# 攻击类型分类\n",
    "corrected = corrected.select(\n",
    "    *[udf_mapper_attack2majorindex(column).alias('label') if column == 'label' else column for column in corrected.columns]\n",
    ")\n",
    "# 分类编码\n",
    "corrected_indexed = pipeline_stringindex_fitted.transform(corrected)\n",
    "\n",
    "# 划分 features vector 和 label\n",
    "corrected_set = featuresToVec(corrected_indexed)"
   ]
  },
  {
   "cell_type": "markdown",
   "metadata": {},
   "source": [
    "预测"
   ]
  },
  {
   "cell_type": "code",
   "execution_count": 22,
   "metadata": {},
   "outputs": [
    {
     "name": "stdout",
     "output_type": "stream",
     "text": [
      "Perdict in 0.029 seconds\n"
     ]
    }
   ],
   "source": [
    "t0 = time()\n",
    "corrected_result = rf_model.transform(corrected_set)\n",
    "tt = time() -t0\n",
    "print(\"Perdict in {} seconds\".format(round(tt,3)))"
   ]
  },
  {
   "cell_type": "markdown",
   "metadata": {},
   "source": [
    "评价"
   ]
  },
  {
   "cell_type": "code",
   "execution_count": 60,
   "metadata": {},
   "outputs": [
    {
     "name": "stdout",
     "output_type": "stream",
     "text": [
      "accuracy                       0.923110 \t 134.500000 seconds\n",
      "f1                             0.903440 \t 252.941000 seconds\n"
     ]
    }
   ],
   "source": [
    "evaluator = MulticlassClassificationEvaluator(labelCol='label',predictionCol='prediction')\n",
    "score_corrected={}\n",
    "# for metric in ['accuracy','weightedPrecision','weightedRecall','f1']:\n",
    "for metric in ['accuracy','f1']:\n",
    "    t0 = time()\n",
    "    score_corrected[metric] = evaluator.evaluate(dataset=corrected_result,params={evaluator.metricName:metric})\n",
    "    tt = time() -t0\n",
    "    print(\"%-*s %f \\t %f seconds\"%( 30 , metric, score_corrected[metric], round(tt,3)))"
   ]
  },
  {
   "cell_type": "markdown",
   "metadata": {},
   "source": [
    "# 混淆矩阵"
   ]
  },
  {
   "cell_type": "code",
   "execution_count": 23,
   "metadata": {},
   "outputs": [],
   "source": [
    "import pandas as pd\n",
    "import numpy as np\n",
    "from sklearn.metrics import confusion_matrix\n",
    "import matplotlib.pyplot as plt"
   ]
  },
  {
   "cell_type": "code",
   "execution_count": 24,
   "metadata": {},
   "outputs": [],
   "source": [
    "# convert DF column to list\n",
    "def getListFromDF(df,colname):\n",
    "    tmp = df.select(colname).toPandas()\n",
    "    return tmp.iloc[:,0].values"
   ]
  },
  {
   "cell_type": "code",
   "execution_count": 25,
   "metadata": {},
   "outputs": [],
   "source": [
    "# 直接根据测试结果DF 绘制混淆矩阵,并输出评分\n",
    "def drawFromDF(dataset):\n",
    "    true = getListFromDF(dataset,'label')\n",
    "    pred = getListFromDF(dataset,'prediction')\n",
    "    cm,plt = drawConfusionMatrix(true,pred,[0,1,2,3,4])\n",
    "    plt.show()\n",
    "    preAndRec(cm=cm,labels=[0,1,2,3,4])\n",
    "    return cm,true,pred"
   ]
  },
  {
   "cell_type": "code",
   "execution_count": 26,
   "metadata": {},
   "outputs": [
    {
     "data": {
      "image/png": "[encoded data removed]",
      "text/plain": [
       "<Figure size 288x288 with 2 Axes>"
      ]
     },
     "metadata": {},
     "output_type": "display_data"
    },
    {
     "name": "stdout",
     "output_type": "stream",
     "text": [
      "------------------------------\n",
      "Precision:\n",
      "0 : \t 0.998087\n",
      "1 : \t 0.998710\n",
      "2 : \t 1.000000\n",
      "3 : \t 1.000000\n",
      "4 : \t 0.989305\n",
      "\n",
      "Recall:\n",
      "0 : \t 0.999899\n",
      "1 : \t 0.974811\n",
      "2 : \t 0.999962\n",
      "3 : \t 0.857143\n",
      "4 : \t 0.925000\n",
      "------------------------------\n"
     ]
    }
   ],
   "source": [
    "test_cm,test_true,test_pred = drawFromDF(dataset=test_result)"
   ]
  },
  {
   "cell_type": "code",
   "execution_count": 27,
   "metadata": {},
   "outputs": [
    {
     "data": {
      "image/png": "[encoded data removed]",
      "text/plain": [
       "<Figure size 288x288 with 2 Axes>"
      ]
     },
     "metadata": {},
     "output_type": "display_data"
    },
    {
     "name": "stdout",
     "output_type": "stream",
     "text": [
      "------------------------------\n",
      "Precision:\n",
      "0 : \t 0.720025\n",
      "1 : \t 0.933655\n",
      "2 : \t 0.998945\n",
      "3 : \t 0.500000\n",
      "4 : \t 1.000000\n",
      "\n",
      "Recall:\n",
      "0 : \t 0.995627\n",
      "1 : \t 0.743159\n",
      "2 : \t 0.972295\n",
      "3 : \t 0.004386\n",
      "4 : \t 0.012601\n",
      "------------------------------\n"
     ]
    }
   ],
   "source": [
    "corrected_cm,corrected_true,corrected_pred = drawFromDF(dataset=corrected_result)"
   ]
  },
  {
   "cell_type": "markdown",
   "metadata": {},
   "source": [
    "# 二次训练"
   ]
  },
  {
   "cell_type": "markdown",
   "metadata": {},
   "source": [
    "提取错误样本集"
   ]
  },
  {
   "cell_type": "code",
   "execution_count": 32,
   "metadata": {},
   "outputs": [],
   "source": [
    "error_set = test_result.where('label != prediction') # error_set 已有 prediction 等列,共41个样本\n",
    "\n",
    "error_corrected_set = corrected_result.where('label != prediction') # 共23915个样本\n",
    "\n",
    "train2_set = train_set.unionAll(error_set.drop('rawPrediction','prediction','probability')) \n",
    "\n",
    "train2_set = train2_set.unionAll(error_corrected_set.drop('rawPrediction','prediction','probability'))  # 共418592个样本"
   ]
  },
  {
   "cell_type": "markdown",
   "metadata": {},
   "source": [
    "训练"
   ]
  },
  {
   "cell_type": "code",
   "execution_count": 52,
   "metadata": {},
   "outputs": [],
   "source": [
    "rf2 = RandomForestClassifier(\n",
    "    featuresCol='feature_vec', # 特征\n",
    "    labelCol='label', #标签\n",
    "    impurity='gini', # 考虑到样本分布和计算效率\n",
    "    maxBins=72, # 根据样本训练集确定\n",
    "    numTrees=200, # 树个数\n",
    "    subsamplingRate = 1.0, # 默认值，用于训练每棵树的数据占总训练集比例，可用于加速\n",
    ")"
   ]
  },
  {
   "cell_type": "code",
   "execution_count": 53,
   "metadata": {},
   "outputs": [
    {
     "name": "stdout",
     "output_type": "stream",
     "text": [
      "Trains in 614.033 seconds\n"
     ]
    }
   ],
   "source": [
    "# 训练模型\n",
    "t0 = time()\n",
    "rf2_model = rf2.fit(train2_set)\n",
    "tt = time() -t0\n",
    "print(\"Trains in {} seconds\".format(round(tt,3)))"
   ]
  },
  {
   "cell_type": "code",
   "execution_count": 54,
   "metadata": {},
   "outputs": [],
   "source": [
    "# 保存训练好的机器学习模型\n",
    "rf2_model.save('SparkRF/rf2_model')"
   ]
  },
  {
   "cell_type": "code",
   "execution_count": null,
   "metadata": {},
   "outputs": [],
   "source": [
    "# 加载本地机器学习模型\n",
    "from pyspark.ml.classification import RandomForestClassificationModel\n",
    "rf_model=RandomForestClassificationModel.load('SparkRF/rf2_model')"
   ]
  },
  {
   "cell_type": "markdown",
   "metadata": {},
   "source": [
    "预测"
   ]
  },
  {
   "cell_type": "code",
   "execution_count": 55,
   "metadata": {},
   "outputs": [
    {
     "name": "stdout",
     "output_type": "stream",
     "text": [
      "Perdict in 0.058 seconds\n"
     ]
    }
   ],
   "source": [
    "# 预测\n",
    "t0 = time()\n",
    "test2_corrected_result = rf2_model.transform(corrected_set)\n",
    "tt = time() -t0\n",
    "print(\"Perdict in {} seconds\".format(round(tt,3)))"
   ]
  },
  {
   "cell_type": "markdown",
   "metadata": {},
   "source": [
    "评价"
   ]
  },
  {
   "cell_type": "code",
   "execution_count": 58,
   "metadata": {},
   "outputs": [
    {
     "name": "stdout",
     "output_type": "stream",
     "text": [
      "accuracy                       0.954416 \t 100.858000 seconds\n",
      "f1                             0.957008 \t 187.015000 seconds\n"
     ]
    }
   ],
   "source": [
    "evaluator = MulticlassClassificationEvaluator(labelCol='label',predictionCol='prediction')\n",
    "score_test2={}\n",
    "# for metric in ['accuracy','weightedPrecision','weightedRecall','f1']:\n",
    "for metric in ['accuracy','f1']:\n",
    "    t0 = time()\n",
    "    score_test2[metric] = evaluator.evaluate(dataset=test2_corrected_result,params={evaluator.metricName:metric})\n",
    "    tt = time() -t0\n",
    "    print(\"%-*s %f \\t %f seconds\"%( 30 , metric, score_test2[metric], round(tt,3)))"
   ]
  },
  {
   "cell_type": "code",
   "execution_count": 59,
   "metadata": {},
   "outputs": [
    {
     "data": {
      "image/png": "[encoded data removed]",
      "text/plain": [
       "<Figure size 288x288 with 2 Axes>"
      ]
     },
     "metadata": {},
     "output_type": "display_data"
    },
    {
     "name": "stdout",
     "output_type": "stream",
     "text": [
      "------------------------------\n",
      "Precision:\n",
      "0 : \t 0.953568\n",
      "1 : \t 0.995043\n",
      "2 : \t 0.999465\n",
      "3 : \t nan\n",
      "4 : \t 0.562186\n",
      "\n",
      "Recall:\n",
      "0 : \t 0.806661\n",
      "1 : \t 0.771003\n",
      "2 : \t 0.999726\n",
      "3 : \t 0.000000\n",
      "4 : \t 0.924764\n",
      "------------------------------\n"
     ]
    },
    {
     "name": "stderr",
     "output_type": "stream",
     "text": [
      "C:\\Users\\asus\\Desktop\\lab\\utils.py:174: RuntimeWarning: invalid value encountered in longlong_scalars\n",
      "  result[x]= tp/s if s is not 0 else 0\n"
     ]
    }
   ],
   "source": [
    "test2_corrected_cm,test2_corrected_true,test2_corrected_pred = drawFromDF(dataset=test2_corrected_result)"
   ]
  },
  {
   "cell_type": "code",
   "execution_count": null,
   "metadata": {},
   "outputs": [],
   "source": []
  }
 ],
 "metadata": {
  "kernelspec": {
   "display_name": "Python 3",
   "language": "python",
   "name": "python3"
  },
  "language_info": {
   "codemirror_mode": {
    "name": "ipython",
    "version": 3
   },
   "file_extension": ".py",
   "mimetype": "text/x-python",
   "name": "python",
   "nbconvert_exporter": "python",
   "pygments_lexer": "ipython3",
   "version": "3.7.0"
  }
 },
 "nbformat": 4,
 "nbformat_minor": 2
}

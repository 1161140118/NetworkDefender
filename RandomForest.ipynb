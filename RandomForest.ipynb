{
 "cells": [
  {
   "cell_type": "markdown",
   "metadata": {},
   "source": [
    "# 数据预处理"
   ]
  },
  {
   "cell_type": "markdown",
   "metadata": {},
   "source": [
    "数据集简介:\n",
    "* https://www.cnblogs.com/gongyanc/p/6703532.html"
   ]
  },
  {
   "cell_type": "code",
   "execution_count": 1,
   "metadata": {},
   "outputs": [
    {
     "data": {
      "text/html": [
       "<div>\n",
       "<style scoped>\n",
       "    .dataframe tbody tr th:only-of-type {\n",
       "        vertical-align: middle;\n",
       "    }\n",
       "\n",
       "    .dataframe tbody tr th {\n",
       "        vertical-align: top;\n",
       "    }\n",
       "\n",
       "    .dataframe thead th {\n",
       "        text-align: right;\n",
       "    }\n",
       "</style>\n",
       "<table border=\"1\" class=\"dataframe\">\n",
       "  <thead>\n",
       "    <tr style=\"text-align: right;\">\n",
       "      <th></th>\n",
       "      <th>duration</th>\n",
       "      <th>src_bytes</th>\n",
       "      <th>dst_bytes</th>\n",
       "      <th>land</th>\n",
       "      <th>wrong_fragment</th>\n",
       "      <th>urgent</th>\n",
       "      <th>hot</th>\n",
       "      <th>num_failed_logins</th>\n",
       "      <th>logged_in</th>\n",
       "      <th>num_compromised</th>\n",
       "      <th>...</th>\n",
       "      <th>dst_host_count</th>\n",
       "      <th>dst_host_srv_count</th>\n",
       "      <th>dst_host_same_srv_rate</th>\n",
       "      <th>dst_host_diff_srv_rate</th>\n",
       "      <th>dst_host_same_src_port_rate</th>\n",
       "      <th>dst_host_srv_diff_host_rate</th>\n",
       "      <th>dst_host_serror_rate</th>\n",
       "      <th>dst_host_srv_serror_rate</th>\n",
       "      <th>dst_host_rerror_rate</th>\n",
       "      <th>dst_host_srv_rerror_rate</th>\n",
       "    </tr>\n",
       "  </thead>\n",
       "  <tbody>\n",
       "    <tr>\n",
       "      <th>count</th>\n",
       "      <td>494021.000000</td>\n",
       "      <td>4.940210e+05</td>\n",
       "      <td>4.940210e+05</td>\n",
       "      <td>494021.000000</td>\n",
       "      <td>494021.000000</td>\n",
       "      <td>494021.000000</td>\n",
       "      <td>494021.000000</td>\n",
       "      <td>494021.000000</td>\n",
       "      <td>494021.000000</td>\n",
       "      <td>494021.000000</td>\n",
       "      <td>...</td>\n",
       "      <td>494021.000000</td>\n",
       "      <td>494021.000000</td>\n",
       "      <td>494021.000000</td>\n",
       "      <td>494021.000000</td>\n",
       "      <td>494021.000000</td>\n",
       "      <td>494021.000000</td>\n",
       "      <td>494021.000000</td>\n",
       "      <td>494021.000000</td>\n",
       "      <td>494021.000000</td>\n",
       "      <td>494021.000000</td>\n",
       "    </tr>\n",
       "    <tr>\n",
       "      <th>mean</th>\n",
       "      <td>47.979302</td>\n",
       "      <td>3.025610e+03</td>\n",
       "      <td>8.685324e+02</td>\n",
       "      <td>0.000045</td>\n",
       "      <td>0.006433</td>\n",
       "      <td>0.000014</td>\n",
       "      <td>0.034519</td>\n",
       "      <td>0.000152</td>\n",
       "      <td>0.148247</td>\n",
       "      <td>0.010212</td>\n",
       "      <td>...</td>\n",
       "      <td>232.470778</td>\n",
       "      <td>188.665670</td>\n",
       "      <td>0.753780</td>\n",
       "      <td>0.030906</td>\n",
       "      <td>0.601935</td>\n",
       "      <td>0.006684</td>\n",
       "      <td>0.176754</td>\n",
       "      <td>0.176443</td>\n",
       "      <td>0.058118</td>\n",
       "      <td>0.057412</td>\n",
       "    </tr>\n",
       "    <tr>\n",
       "      <th>std</th>\n",
       "      <td>707.746472</td>\n",
       "      <td>9.882181e+05</td>\n",
       "      <td>3.304000e+04</td>\n",
       "      <td>0.006673</td>\n",
       "      <td>0.134805</td>\n",
       "      <td>0.005510</td>\n",
       "      <td>0.782103</td>\n",
       "      <td>0.015520</td>\n",
       "      <td>0.355345</td>\n",
       "      <td>1.798326</td>\n",
       "      <td>...</td>\n",
       "      <td>64.745380</td>\n",
       "      <td>106.040437</td>\n",
       "      <td>0.410781</td>\n",
       "      <td>0.109259</td>\n",
       "      <td>0.481309</td>\n",
       "      <td>0.042133</td>\n",
       "      <td>0.380593</td>\n",
       "      <td>0.380919</td>\n",
       "      <td>0.230590</td>\n",
       "      <td>0.230140</td>\n",
       "    </tr>\n",
       "    <tr>\n",
       "      <th>min</th>\n",
       "      <td>0.000000</td>\n",
       "      <td>0.000000e+00</td>\n",
       "      <td>0.000000e+00</td>\n",
       "      <td>0.000000</td>\n",
       "      <td>0.000000</td>\n",
       "      <td>0.000000</td>\n",
       "      <td>0.000000</td>\n",
       "      <td>0.000000</td>\n",
       "      <td>0.000000</td>\n",
       "      <td>0.000000</td>\n",
       "      <td>...</td>\n",
       "      <td>0.000000</td>\n",
       "      <td>0.000000</td>\n",
       "      <td>0.000000</td>\n",
       "      <td>0.000000</td>\n",
       "      <td>0.000000</td>\n",
       "      <td>0.000000</td>\n",
       "      <td>0.000000</td>\n",
       "      <td>0.000000</td>\n",
       "      <td>0.000000</td>\n",
       "      <td>0.000000</td>\n",
       "    </tr>\n",
       "    <tr>\n",
       "      <th>25%</th>\n",
       "      <td>0.000000</td>\n",
       "      <td>4.500000e+01</td>\n",
       "      <td>0.000000e+00</td>\n",
       "      <td>0.000000</td>\n",
       "      <td>0.000000</td>\n",
       "      <td>0.000000</td>\n",
       "      <td>0.000000</td>\n",
       "      <td>0.000000</td>\n",
       "      <td>0.000000</td>\n",
       "      <td>0.000000</td>\n",
       "      <td>...</td>\n",
       "      <td>255.000000</td>\n",
       "      <td>46.000000</td>\n",
       "      <td>0.410000</td>\n",
       "      <td>0.000000</td>\n",
       "      <td>0.000000</td>\n",
       "      <td>0.000000</td>\n",
       "      <td>0.000000</td>\n",
       "      <td>0.000000</td>\n",
       "      <td>0.000000</td>\n",
       "      <td>0.000000</td>\n",
       "    </tr>\n",
       "    <tr>\n",
       "      <th>50%</th>\n",
       "      <td>0.000000</td>\n",
       "      <td>5.200000e+02</td>\n",
       "      <td>0.000000e+00</td>\n",
       "      <td>0.000000</td>\n",
       "      <td>0.000000</td>\n",
       "      <td>0.000000</td>\n",
       "      <td>0.000000</td>\n",
       "      <td>0.000000</td>\n",
       "      <td>0.000000</td>\n",
       "      <td>0.000000</td>\n",
       "      <td>...</td>\n",
       "      <td>255.000000</td>\n",
       "      <td>255.000000</td>\n",
       "      <td>1.000000</td>\n",
       "      <td>0.000000</td>\n",
       "      <td>1.000000</td>\n",
       "      <td>0.000000</td>\n",
       "      <td>0.000000</td>\n",
       "      <td>0.000000</td>\n",
       "      <td>0.000000</td>\n",
       "      <td>0.000000</td>\n",
       "    </tr>\n",
       "    <tr>\n",
       "      <th>75%</th>\n",
       "      <td>0.000000</td>\n",
       "      <td>1.032000e+03</td>\n",
       "      <td>0.000000e+00</td>\n",
       "      <td>0.000000</td>\n",
       "      <td>0.000000</td>\n",
       "      <td>0.000000</td>\n",
       "      <td>0.000000</td>\n",
       "      <td>0.000000</td>\n",
       "      <td>0.000000</td>\n",
       "      <td>0.000000</td>\n",
       "      <td>...</td>\n",
       "      <td>255.000000</td>\n",
       "      <td>255.000000</td>\n",
       "      <td>1.000000</td>\n",
       "      <td>0.040000</td>\n",
       "      <td>1.000000</td>\n",
       "      <td>0.000000</td>\n",
       "      <td>0.000000</td>\n",
       "      <td>0.000000</td>\n",
       "      <td>0.000000</td>\n",
       "      <td>0.000000</td>\n",
       "    </tr>\n",
       "    <tr>\n",
       "      <th>max</th>\n",
       "      <td>58329.000000</td>\n",
       "      <td>6.933756e+08</td>\n",
       "      <td>5.155468e+06</td>\n",
       "      <td>1.000000</td>\n",
       "      <td>3.000000</td>\n",
       "      <td>3.000000</td>\n",
       "      <td>30.000000</td>\n",
       "      <td>5.000000</td>\n",
       "      <td>1.000000</td>\n",
       "      <td>884.000000</td>\n",
       "      <td>...</td>\n",
       "      <td>255.000000</td>\n",
       "      <td>255.000000</td>\n",
       "      <td>1.000000</td>\n",
       "      <td>1.000000</td>\n",
       "      <td>1.000000</td>\n",
       "      <td>1.000000</td>\n",
       "      <td>1.000000</td>\n",
       "      <td>1.000000</td>\n",
       "      <td>1.000000</td>\n",
       "      <td>1.000000</td>\n",
       "    </tr>\n",
       "  </tbody>\n",
       "</table>\n",
       "<p>8 rows × 38 columns</p>\n",
       "</div>"
      ],
      "text/plain": [
       "            duration     src_bytes     dst_bytes           land  \\\n",
       "count  494021.000000  4.940210e+05  4.940210e+05  494021.000000   \n",
       "mean       47.979302  3.025610e+03  8.685324e+02       0.000045   \n",
       "std       707.746472  9.882181e+05  3.304000e+04       0.006673   \n",
       "min         0.000000  0.000000e+00  0.000000e+00       0.000000   \n",
       "25%         0.000000  4.500000e+01  0.000000e+00       0.000000   \n",
       "50%         0.000000  5.200000e+02  0.000000e+00       0.000000   \n",
       "75%         0.000000  1.032000e+03  0.000000e+00       0.000000   \n",
       "max     58329.000000  6.933756e+08  5.155468e+06       1.000000   \n",
       "\n",
       "       wrong_fragment         urgent            hot  num_failed_logins  \\\n",
       "count   494021.000000  494021.000000  494021.000000      494021.000000   \n",
       "mean         0.006433       0.000014       0.034519           0.000152   \n",
       "std          0.134805       0.005510       0.782103           0.015520   \n",
       "min          0.000000       0.000000       0.000000           0.000000   \n",
       "25%          0.000000       0.000000       0.000000           0.000000   \n",
       "50%          0.000000       0.000000       0.000000           0.000000   \n",
       "75%          0.000000       0.000000       0.000000           0.000000   \n",
       "max          3.000000       3.000000      30.000000           5.000000   \n",
       "\n",
       "           logged_in  num_compromised            ...             \\\n",
       "count  494021.000000    494021.000000            ...              \n",
       "mean        0.148247         0.010212            ...              \n",
       "std         0.355345         1.798326            ...              \n",
       "min         0.000000         0.000000            ...              \n",
       "25%         0.000000         0.000000            ...              \n",
       "50%         0.000000         0.000000            ...              \n",
       "75%         0.000000         0.000000            ...              \n",
       "max         1.000000       884.000000            ...              \n",
       "\n",
       "       dst_host_count  dst_host_srv_count  dst_host_same_srv_rate  \\\n",
       "count   494021.000000       494021.000000           494021.000000   \n",
       "mean       232.470778          188.665670                0.753780   \n",
       "std         64.745380          106.040437                0.410781   \n",
       "min          0.000000            0.000000                0.000000   \n",
       "25%        255.000000           46.000000                0.410000   \n",
       "50%        255.000000          255.000000                1.000000   \n",
       "75%        255.000000          255.000000                1.000000   \n",
       "max        255.000000          255.000000                1.000000   \n",
       "\n",
       "       dst_host_diff_srv_rate  dst_host_same_src_port_rate  \\\n",
       "count           494021.000000                494021.000000   \n",
       "mean                 0.030906                     0.601935   \n",
       "std                  0.109259                     0.481309   \n",
       "min                  0.000000                     0.000000   \n",
       "25%                  0.000000                     0.000000   \n",
       "50%                  0.000000                     1.000000   \n",
       "75%                  0.040000                     1.000000   \n",
       "max                  1.000000                     1.000000   \n",
       "\n",
       "       dst_host_srv_diff_host_rate  dst_host_serror_rate  \\\n",
       "count                494021.000000         494021.000000   \n",
       "mean                      0.006684              0.176754   \n",
       "std                       0.042133              0.380593   \n",
       "min                       0.000000              0.000000   \n",
       "25%                       0.000000              0.000000   \n",
       "50%                       0.000000              0.000000   \n",
       "75%                       0.000000              0.000000   \n",
       "max                       1.000000              1.000000   \n",
       "\n",
       "       dst_host_srv_serror_rate  dst_host_rerror_rate  \\\n",
       "count             494021.000000         494021.000000   \n",
       "mean                   0.176443              0.058118   \n",
       "std                    0.380919              0.230590   \n",
       "min                    0.000000              0.000000   \n",
       "25%                    0.000000              0.000000   \n",
       "50%                    0.000000              0.000000   \n",
       "75%                    0.000000              0.000000   \n",
       "max                    1.000000              1.000000   \n",
       "\n",
       "       dst_host_srv_rerror_rate  \n",
       "count             494021.000000  \n",
       "mean                   0.057412  \n",
       "std                    0.230140  \n",
       "min                    0.000000  \n",
       "25%                    0.000000  \n",
       "50%                    0.000000  \n",
       "75%                    0.000000  \n",
       "max                    1.000000  \n",
       "\n",
       "[8 rows x 38 columns]"
      ]
     },
     "execution_count": 1,
     "metadata": {},
     "output_type": "execute_result"
    }
   ],
   "source": [
    "import numpy as np\n",
    "import pandas as pd\n",
    "import matplotlib.pyplot as plt\n",
    "\n",
    "col_names = [\"duration\",\"protocol_type\",\"service\",\"flag\",\"src_bytes\",\n",
    "    \"dst_bytes\",\"land\",\"wrong_fragment\",\"urgent\",\"hot\",\"num_failed_logins\",\n",
    "    \"logged_in\",\"num_compromised\",\"root_shell\",\"su_attempted\",\"num_root\",\n",
    "    \"num_file_creations\",\"num_shells\",\"num_access_files\",\"num_outbound_cmds\",\n",
    "    \"is_host_login\",\"is_guest_login\",\"count\",\"srv_count\",\"serror_rate\",\n",
    "    \"srv_serror_rate\",\"rerror_rate\",\"srv_rerror_rate\",\"same_srv_rate\",\n",
    "    \"diff_srv_rate\",\"srv_diff_host_rate\",\"dst_host_count\",\"dst_host_srv_count\",\n",
    "    \"dst_host_same_srv_rate\",\"dst_host_diff_srv_rate\",\"dst_host_same_src_port_rate\",\n",
    "    \"dst_host_srv_diff_host_rate\",\"dst_host_serror_rate\",\"dst_host_srv_serror_rate\",\n",
    "    \"dst_host_rerror_rate\",\"dst_host_srv_rerror_rate\",\"label\"]\n",
    "data10p = pd.read_csv('Data/kddcup.data_10_percent.gz', header=None, names = col_names)\n",
    "validation = pd.read_csv('Data/corrected.gz',header=None)\n",
    "data10p.describe()"
   ]
  },
  {
   "cell_type": "code",
   "execution_count": 7,
   "metadata": {},
   "outputs": [],
   "source": [
    "dataset = data10p.iloc[:,:-1].values\n",
    "x_validation = validation.iloc[:,:-1].values"
   ]
  },
  {
   "cell_type": "code",
   "execution_count": 8,
   "metadata": {},
   "outputs": [],
   "source": [
    "target = data10p.iloc[:,-1].values\n",
    "y_validation = validation.iloc[:,-1].values"
   ]
  },
  {
   "cell_type": "markdown",
   "metadata": {},
   "source": [
    "分类变量编码"
   ]
  },
  {
   "cell_type": "code",
   "execution_count": 9,
   "metadata": {},
   "outputs": [],
   "source": [
    "from sklearn.preprocessing import LabelEncoder,OneHotEncoder\n",
    "\n",
    "# 对protocol_type编码\n",
    "protocol_labelencoder = LabelEncoder()\n",
    "protocol_labelencoder.fit([\"tcp\",\"udp\",\"icmp\"])\n",
    "dataset[:,1] = protocol_labelencoder.transform(dataset[:,1])\n",
    "x_validation[:,1] = protocol_labelencoder.transform(x_validation[:,1])\n",
    "\n",
    "# 对service编码\n",
    "service_labelencoder = LabelEncoder()\n",
    "service_labelencoder.fit([\n",
    "    'aol','auth','bgp','courier','csnet_ns','ctf',\n",
    "    'daytime','discard','domain','domain_u','echo',\n",
    "    'eco_i','ecr_i','efs','exec','finger','ftp','ftp_data',\n",
    "    'gopher','harvest','hostnames','http','http_2784','http_443',\n",
    "    'http_8001','icmp','imap4','IRC','iso_tsap','klogin','kshell',\n",
    "    'ldap','link','login','mtp','name','netbios_dgm','netbios_ns',\n",
    "    'netbios_ssn','netstat','nnsp','nntp','ntp_u','other','pm_dump',\n",
    "    'pop_2','pop_3','printer','private','red_i','remote_job','rje',\n",
    "    'shell','smtp','sql_net','ssh','sunrpc','supdup','systat','telnet',\n",
    "    'tftp_u','tim_i','time','urh_i','urp_i','uucp','uucp_path','vmnet',\n",
    "    'whois','X11','Z39_50'\n",
    "   ])\n",
    "dataset[:,2] = service_labelencoder.transform(dataset[:,2])\n",
    "x_validation[:,2] = service_labelencoder.transform(x_validation[:,2])\n",
    "\n",
    "# 对flag编码\n",
    "flag_labelencoder = LabelEncoder()\n",
    "flag_labelencoder.fit(['OTH', 'REJ', 'RSTO', 'RSTOS0', 'RSTR', 'S0', 'S1', 'S2', 'S3', 'SF', 'SH'])\n",
    "dataset[:,3] = flag_labelencoder.transform(dataset[:,3])\n",
    "x_validation[:,3] = flag_labelencoder.transform(x_validation[:,3])"
   ]
  },
  {
   "cell_type": "code",
   "execution_count": 10,
   "metadata": {},
   "outputs": [
    {
     "data": {
      "text/plain": [
       "(494021, 41)"
      ]
     },
     "execution_count": 10,
     "metadata": {},
     "output_type": "execute_result"
    }
   ],
   "source": [
    "dataset.shape"
   ]
  },
  {
   "cell_type": "markdown",
   "metadata": {},
   "source": [
    "label 编码"
   ]
  },
  {
   "cell_type": "code",
   "execution_count": 12,
   "metadata": {},
   "outputs": [],
   "source": [
    "label_labelencoder = LabelEncoder()\n",
    "label_labelencoder.fit([\n",
    "    'normal.','apache2.', 'back.', 'buffer_overflow.', 'ftp_write.',\n",
    "'guess_passwd.', 'httptunnel.', 'imap.', 'ipsweep.', 'land.',\n",
    "'loadmodule.', 'mailbomb.', 'mscan.', 'multihop.', 'named.',\n",
    "'neptune.', 'nmap.',  'perl.', 'phf.', 'pod.',\n",
    "'portsweep.', 'processtable.', 'ps.', 'rootkit.', 'saint.',\n",
    "'satan.', 'sendmail.', 'smurf.', 'snmpgetattack.', 'snmpguess.',\n",
    "'sqlattack.', 'teardrop.', 'udpstorm.', 'warezmaster.', 'worm.',\n",
    "'xlock.', 'xsnoop.', 'xterm.','spy.','warezclient.'\n",
    "])\n",
    "y_validation = label_labelencoder.transform(y_validation)\n",
    "target = label_labelencoder.transform(target)"
   ]
  },
  {
   "cell_type": "code",
   "execution_count": 39,
   "metadata": {},
   "outputs": [],
   "source": [
    "target[target is not 16 ] = 1\n",
    "y_validation[y_validation is not 16] = 1"
   ]
  },
  {
   "cell_type": "code",
   "execution_count": 19,
   "metadata": {},
   "outputs": [
    {
     "name": "stderr",
     "output_type": "stream",
     "text": [
      "C:\\Users\\asus\\Anaconda3\\lib\\site-packages\\sklearn\\preprocessing\\label.py:151: DeprecationWarning: The truth value of an empty array is ambiguous. Returning False, but in future this will result in an error. Use `array.size > 0` to check that an array is not empty.\n",
      "  if diff:\n"
     ]
    },
    {
     "data": {
      "text/plain": [
       "'back.'"
      ]
     },
     "execution_count": 19,
     "metadata": {},
     "output_type": "execute_result"
    }
   ],
   "source": [
    "label_labelencoder.inverse_transform(1)"
   ]
  },
  {
   "cell_type": "markdown",
   "metadata": {},
   "source": [
    "# 随机森林特征选择 (不再使用）"
   ]
  },
  {
   "cell_type": "markdown",
   "metadata": {},
   "source": [
    "from sklearn.model_selection import train_test_split\n",
    "from sklearn.ensemble import RandomForestClassifier\n",
    "from time import time"
   ]
  },
  {
   "cell_type": "markdown",
   "metadata": {},
   "source": [
    "feat_labels = data10p.columns[1:]\n",
    "t0 = time()\n",
    "forest = RandomForestClassifier(n_estimators=100, random_state=0, n_jobs=-1)\n",
    "forest.fit(dataset,target)\n",
    "tt = time()-t0\n",
    "print(\"Fit in {} seconds\".format(round(tt,3)))"
   ]
  },
  {
   "cell_type": "markdown",
   "metadata": {},
   "source": [
    "importances = forest.feature_importances_\n",
    "indices = np.argsort(importances)[::-1]"
   ]
  },
  {
   "cell_type": "markdown",
   "metadata": {
    "collapsed": true
   },
   "source": [
    "for f in range(dataset.shape[1]):\n",
    "    print(\"%2d) %-*s %f\" % (f + 1, 20, indices[f], importances[indices[f]]))"
   ]
  },
  {
   "cell_type": "markdown",
   "metadata": {},
   "source": [
    "sum = 0\n",
    "selected_feat=set()\n",
    "for f in range(dataset.shape[1]):\n",
    "    if f+1 == 45:\n",
    "        break\n",
    "    selected_feat.add(indices[f])\n",
    "    sum += importances[indices[f]]\n",
    "print(\"The sum of first 44 features is {sum}\".format(sum=sum))\n",
    "print(selected_feat)"
   ]
  },
  {
   "cell_type": "markdown",
   "metadata": {},
   "source": [
    "模型训练前执行"
   ]
  },
  {
   "cell_type": "markdown",
   "metadata": {},
   "source": [
    "feature = dataset[:,importances>0.0001]\n",
    "x_validation = x_validation[:,[ _ for _ in selected_feat]]"
   ]
  },
  {
   "cell_type": "markdown",
   "metadata": {},
   "source": [
    "# 随机森林训练"
   ]
  },
  {
   "cell_type": "code",
   "execution_count": 11,
   "metadata": {},
   "outputs": [
    {
     "data": {
      "text/plain": [
       "0.9195026830295567"
      ]
     },
     "execution_count": 11,
     "metadata": {},
     "output_type": "execute_result"
    }
   ],
   "source": [
    "rf = RandomForestClassifier(n_jobs=-1)\n",
    "rf.fit(feature,target)\n",
    "rf.score(x_validation,y_validation)"
   ]
  },
  {
   "cell_type": "markdown",
   "metadata": {},
   "source": [
    "# 参数调优"
   ]
  },
  {
   "cell_type": "markdown",
   "metadata": {},
   "source": [
    "参考 \n",
    "* http://bluewhale.cc/2017-09-28/use-grid-search-for-model-parameter-optimization.html \n",
    "* http://sofasofa.io/forum_main_post.php?postid=1001666  \n",
    "* https://www.cnblogs.com/pinard/p/6160412.html \n",
    "* cross_validation generator： https://scikit-learn.org/stable/tutorial/statistical_inference/model_selection.html\n",
    "* 自定义验证集 https://wanwang.aliyun.com/info/1559619.html"
   ]
  },
  {
   "cell_type": "markdown",
   "metadata": {},
   "source": [
    "坑：\n",
    "* GridSearchCV 中 scoring = 'roc_auc' 只适用于二分类器\n",
    "* k折交叉验证，分类时，labels中samples最少的label，也应有 |sample|>k, 以保证划分的训练集和测试集均有该label"
   ]
  },
  {
   "cell_type": "code",
   "execution_count": 31,
   "metadata": {},
   "outputs": [],
   "source": [
    "# 导入库\n",
    "from sklearn.model_selection import GridSearchCV , KFold\n",
    "from sklearn.cross_validation import train_test_split"
   ]
  },
  {
   "cell_type": "markdown",
   "metadata": {},
   "source": [
    "\n",
    "parameters_test1 = [{\n",
    "    'n_estimators':[10,100,200,500], # 树数量\n",
    "    'criterion':['entropy','gini'], # 信息增益，gini系数\n",
    "    'max_depth':[10,30,50], # 最大深度\n",
    "    'min_samples_split':[2,5,10], # 内部节点再划分所需最小样本数\n",
    "    'min_samples_leaf':[1,2,10], # 叶节点最少样本数\n",
    "    'min_weight_fraction_leaf':[0.0,0.1,0.2,0.3,0.4,0.5] # 叶结点最小样本权重和\n",
    "}]"
   ]
  },
  {
   "cell_type": "markdown",
   "metadata": {},
   "source": [
    "参数调优"
   ]
  },
  {
   "cell_type": "code",
   "execution_count": 34,
   "metadata": {},
   "outputs": [
    {
     "name": "stdout",
     "output_type": "stream",
     "text": [
      "Conduct in -9037.643 seconds.\n"
     ]
    },
    {
     "name": "stderr",
     "output_type": "stream",
     "text": [
      "C:\\Users\\asus\\Anaconda3\\lib\\site-packages\\sklearn\\model_selection\\_search.py:761: DeprecationWarning: The grid_scores_ attribute was deprecated in version 0.18 in favor of the more elaborate cv_results_ attribute. The grid_scores_ attribute will not be available from 0.20\n",
      "  DeprecationWarning)\n"
     ]
    },
    {
     "data": {
      "text/plain": [
       "([mean: 0.95425, std: 0.08116, params: {'criterion': 'gini', 'n_estimators': 10},\n",
       "  mean: 0.95462, std: 0.08140, params: {'criterion': 'gini', 'n_estimators': 50},\n",
       "  mean: 0.95466, std: 0.08140, params: {'criterion': 'gini', 'n_estimators': 200},\n",
       "  mean: 0.95466, std: 0.08142, params: {'criterion': 'gini', 'n_estimators': 500},\n",
       "  mean: 0.95464, std: 0.08144, params: {'criterion': 'gini', 'n_estimators': 1000},\n",
       "  mean: 0.95333, std: 0.08044, params: {'criterion': 'entropy', 'n_estimators': 10},\n",
       "  mean: 0.95472, std: 0.08140, params: {'criterion': 'entropy', 'n_estimators': 50},\n",
       "  mean: 0.95475, std: 0.08139, params: {'criterion': 'entropy', 'n_estimators': 200},\n",
       "  mean: 0.95451, std: 0.08126, params: {'criterion': 'entropy', 'n_estimators': 500},\n",
       "  mean: 0.95473, std: 0.08136, params: {'criterion': 'entropy', 'n_estimators': 1000}],\n",
       " {'criterion': 'entropy', 'n_estimators': 200},\n",
       " 0.9547509113985033)"
      ]
     },
     "execution_count": 34,
     "metadata": {},
     "output_type": "execute_result"
    }
   ],
   "source": [
    "# 调参树数量& criterion\n",
    "param_test1 = {\n",
    "    'n_estimators':[10,50,200,500,1000],\n",
    "    \"criterion\":[\"gini\", \"entropy\"]\n",
    "}\n",
    "gsearch1 = GridSearchCV(\n",
    "    estimator = RandomForestClassifier(min_samples_split=100,\n",
    "                                       min_samples_leaf=20,\n",
    "                                       max_depth=8,max_features='sqrt',\n",
    "                                       random_state=10),\n",
    "    param_grid = param_test1,\n",
    "    cv=KFold(n_splits=5)  # 交叉验证参数\n",
    ")\n",
    "t0 = time()\n",
    "gsearch1.fit(dataset,target)\n",
    "tt = t0 -time()\n",
    "print(\"Conduct in {} seconds.\".format(round(tt,3)))\n",
    "gsearch1.grid_scores_, gsearch1.best_params_, gsearch1.best_score_"
   ]
  },
  {
   "cell_type": "code",
   "execution_count": 44,
   "metadata": {},
   "outputs": [
    {
     "name": "stdout",
     "output_type": "stream",
     "text": [
      "Conduct in -1545472226.658 seconds.\n"
     ]
    },
    {
     "name": "stderr",
     "output_type": "stream",
     "text": [
      "C:\\Users\\asus\\Anaconda3\\lib\\site-packages\\sklearn\\model_selection\\_search.py:761: DeprecationWarning: The grid_scores_ attribute was deprecated in version 0.18 in favor of the more elaborate cv_results_ attribute. The grid_scores_ attribute will not be available from 0.20\n",
      "  DeprecationWarning)\n"
     ]
    },
    {
     "data": {
      "text/plain": [
       "([mean: 0.95506, std: 0.08150, params: {'max_features': 'sqrt', 'min_samples_leaf': 8, 'min_samples_split': 2},\n",
       "  mean: 0.95499, std: 0.08148, params: {'max_features': 'sqrt', 'min_samples_leaf': 8, 'min_samples_split': 20},\n",
       "  mean: 0.95495, std: 0.08148, params: {'max_features': 'sqrt', 'min_samples_leaf': 8, 'min_samples_split': 100},\n",
       "  mean: 0.95459, std: 0.08131, params: {'max_features': 'sqrt', 'min_samples_leaf': 40, 'min_samples_split': 2},\n",
       "  mean: 0.95459, std: 0.08131, params: {'max_features': 'sqrt', 'min_samples_leaf': 40, 'min_samples_split': 20},\n",
       "  mean: 0.95465, std: 0.08133, params: {'max_features': 'sqrt', 'min_samples_leaf': 40, 'min_samples_split': 100},\n",
       "  mean: 0.95389, std: 0.08110, params: {'max_features': 'sqrt', 'min_samples_leaf': 100, 'min_samples_split': 2},\n",
       "  mean: 0.95389, std: 0.08110, params: {'max_features': 'sqrt', 'min_samples_leaf': 100, 'min_samples_split': 20},\n",
       "  mean: 0.95389, std: 0.08110, params: {'max_features': 'sqrt', 'min_samples_leaf': 100, 'min_samples_split': 100},\n",
       "  mean: 0.95501, std: 0.08150, params: {'max_features': 'log2', 'min_samples_leaf': 8, 'min_samples_split': 2},\n",
       "  mean: 0.95499, std: 0.08149, params: {'max_features': 'log2', 'min_samples_leaf': 8, 'min_samples_split': 20},\n",
       "  mean: 0.95482, std: 0.08150, params: {'max_features': 'log2', 'min_samples_leaf': 8, 'min_samples_split': 100},\n",
       "  mean: 0.95430, std: 0.08126, params: {'max_features': 'log2', 'min_samples_leaf': 40, 'min_samples_split': 2},\n",
       "  mean: 0.95430, std: 0.08126, params: {'max_features': 'log2', 'min_samples_leaf': 40, 'min_samples_split': 20},\n",
       "  mean: 0.95438, std: 0.08133, params: {'max_features': 'log2', 'min_samples_leaf': 40, 'min_samples_split': 100},\n",
       "  mean: 0.95282, std: 0.08067, params: {'max_features': 'log2', 'min_samples_leaf': 100, 'min_samples_split': 2},\n",
       "  mean: 0.95282, std: 0.08067, params: {'max_features': 'log2', 'min_samples_leaf': 100, 'min_samples_split': 20},\n",
       "  mean: 0.95282, std: 0.08067, params: {'max_features': 'log2', 'min_samples_leaf': 100, 'min_samples_split': 100},\n",
       "  mean: 0.95414, std: 0.08150, params: {'max_features': None, 'min_samples_leaf': 8, 'min_samples_split': 2},\n",
       "  mean: 0.95411, std: 0.08149, params: {'max_features': None, 'min_samples_leaf': 8, 'min_samples_split': 20},\n",
       "  mean: 0.95364, std: 0.08157, params: {'max_features': None, 'min_samples_leaf': 8, 'min_samples_split': 100},\n",
       "  mean: 0.95343, std: 0.08136, params: {'max_features': None, 'min_samples_leaf': 40, 'min_samples_split': 2},\n",
       "  mean: 0.95343, std: 0.08136, params: {'max_features': None, 'min_samples_leaf': 40, 'min_samples_split': 20},\n",
       "  mean: 0.95334, std: 0.08142, params: {'max_features': None, 'min_samples_leaf': 40, 'min_samples_split': 100},\n",
       "  mean: 0.95277, std: 0.08165, params: {'max_features': None, 'min_samples_leaf': 100, 'min_samples_split': 2},\n",
       "  mean: 0.95277, std: 0.08165, params: {'max_features': None, 'min_samples_leaf': 100, 'min_samples_split': 20},\n",
       "  mean: 0.95277, std: 0.08165, params: {'max_features': None, 'min_samples_leaf': 100, 'min_samples_split': 100}],\n",
       " {'max_features': 'sqrt', 'min_samples_leaf': 8, 'min_samples_split': 2},\n",
       " 0.9550565664212655)"
      ]
     },
     "execution_count": 44,
     "metadata": {},
     "output_type": "execute_result"
    }
   ],
   "source": [
    "# 调参最大特征数&最小叶样本数&最小样本数\n",
    "param_test2 = {\n",
    "    'max_features':['sqrt','log2',None],\n",
    "    'min_samples_leaf':[8,40,100],\n",
    "    'min_samples_split':[2,20,100]\n",
    "}\n",
    "gsearch1 = GridSearchCV(\n",
    "    estimator = RandomForestClassifier(\n",
    "        criterion=\"gini\",\n",
    "        n_estimators=200,\n",
    "        random_state=10,\n",
    "        n_jobs =-1\n",
    "    ),\n",
    "    \n",
    "    param_grid = param_test2,\n",
    "    cv=KFold(n_splits=5) # 交叉验证参数\n",
    ")\n",
    "t0 = time()\n",
    "gsearch1.fit(dataset,target)\n",
    "tt = time() - t0\n",
    "print(\"Conduct in {} seconds.\".format(round(tt,3)))\n",
    "gsearch1.grid_scores_, gsearch1.best_params_, gsearch1.best_score_"
   ]
  },
  {
   "cell_type": "code",
   "execution_count": null,
   "metadata": {},
   "outputs": [],
   "source": []
  }
 ],
 "metadata": {
  "kernelspec": {
   "display_name": "Python 3",
   "language": "python",
   "name": "python3"
  },
  "language_info": {
   "codemirror_mode": {
    "name": "ipython",
    "version": 3
   },
   "file_extension": ".py",
   "mimetype": "text/x-python",
   "name": "python",
   "nbconvert_exporter": "python",
   "pygments_lexer": "ipython3",
   "version": "3.6.6"
  }
 },
 "nbformat": 4,
 "nbformat_minor": 2
}
